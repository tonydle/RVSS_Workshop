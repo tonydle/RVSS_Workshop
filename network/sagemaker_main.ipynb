{
 "cells": [
  {
   "cell_type": "code",
   "execution_count": null,
   "metadata": {},
   "outputs": [],
   "source": [
    "import os\n",
    "import json\n",
    "import boto3\n",
    "import sagemaker\n",
    "from sagemaker.pytorch import PyTorch"
   ]
  },
  {
   "cell_type": "code",
   "execution_count": null,
   "metadata": {},
   "outputs": [],
   "source": [
    "sagemaker_session = sagemaker.Session()\n",
    "\n",
    "# The bucket containig our input data\n",
    "source_bucket = \"s3://<bucket_name>/<daset_folder>\"\n",
    "output = \"s3://<bucket_name>/weights/\"\n",
    "\n",
    "role = sagemaker.get_execution_role()\n",
    "\n",
    "estimator = PyTorch(entry_point = \"main.py\",\n",
    "                    source_dir='scripts',\n",
    "                    role = role,\n",
    "                    instance_type = \"ml.p2.xlarge\",\n",
    "                    instance_count = 1,\n",
    "                    framework_version='1.6.0',\n",
    "                    py_version='py3',\n",
    "                    output_path = output,\n",
    "                    hyperparameters = {'epoch': 20,\n",
    "                                       'batch_size': 64,\n",
    "                                       'lr': 5e-4,\n",
    "                                       'scheduler_gamma' : 0.1,\n",
    "                                       'scheduler_step' : 10\n",
    "                                      }\n",
    "                   )\n",
    "\n",
    "estimator.fit({'train': source_bucket})"
   ]
  }
 ],
 "metadata": {
  "kernelspec": {
   "display_name": "conda_python3",
   "language": "python",
   "name": "conda_python3"
  },
  "language_info": {
   "codemirror_mode": {
    "name": "ipython",
    "version": 3
   },
   "file_extension": ".py",
   "mimetype": "text/x-python",
   "name": "python",
   "nbconvert_exporter": "python",
   "pygments_lexer": "ipython3",
   "version": "3.6.10"
  }
 },
 "nbformat": 4,
 "nbformat_minor": 4
}