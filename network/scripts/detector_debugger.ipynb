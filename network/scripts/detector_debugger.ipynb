{
 "cells": [
  {
   "cell_type": "code",
   "execution_count": null,
   "metadata": {},
   "outputs": [],
   "source": [
    "import numpy as np\n",
    "from PIL import Image\n",
    "from detector import Detector\n",
    "import matplotlib.pyplot as plt\n",
    "import matplotlib.patches as label_box\n",
    "from tqdm import tqdm\n",
    "import os"
   ]
  },
  {
   "cell_type": "markdown",
   "metadata": {},
   "source": [
    "### 'ckpt' represents checkpoint.\n",
    "\n",
    "You can set `ckpt = ''` to test if your network architecture is implemented correctly.\n",
    "\n",
    "Later on, you can set `ckpt = <path_to_weight_file>` to inspect the network outputs."
   ]
  },
  {
   "cell_type": "code",
   "execution_count": null,
   "metadata": {
    "scrolled": true
   },
   "outputs": [],
   "source": [
    "ckpt = ''\n",
    "detector = Detector(ckpt, use_gpu=False)"
   ]
  },
  {
   "cell_type": "code",
   "execution_count": null,
   "metadata": {},
   "outputs": [],
   "source": [
    "test_dir = \"test_images/sim\"\n",
    "pred_dir = os.path.join(test_dir, \"pred\")\n",
    "os.makedirs(pred_dir, exist_ok=True)\n",
    "all_test_images = [file for file in os.listdir(test_dir) if file.endswith('.png')] \n",
    "for image_name in all_test_images:\n",
    "    np_img = np.array(Image.open(os.path.join(test_dir, image_name)))\n",
    "    pred, colour_map = detector.detect_single_image(np_img)\n",
    "    title = [\"Input\", \"Prediction\"]\n",
    "    pics = [np_img, colour_map]\n",
    "    fig, axs = plt.subplots(1, 2, figsize=(15, 10))\n",
    "    axs[0].imshow(pics[0], interpolation='nearest')\n",
    "    axs[0].set_title(title[0])\n",
    "    axs[1].imshow(pics[1], interpolation='nearest')\n",
    "    axs[1].set_title(title[1])\n",
    "    axs[0].axis('off')\n",
    "    axs[1].axis('off')\n",
    "    path = os.path.join(pred_dir, image_name)\n",
    "    plt.savefig(os.path.join(pred_dir, image_name[:-4]+'.jpg'))"
   ]
  }
 ],
 "metadata": {
  "kernelspec": {
   "display_name": "Python 3",
   "language": "python",
   "name": "python3"
  },
  "language_info": {
   "codemirror_mode": {
    "name": "ipython",
    "version": 3
   },
   "file_extension": ".py",
   "mimetype": "text/x-python",
   "name": "python",
   "nbconvert_exporter": "python",
   "pygments_lexer": "ipython3",
   "version": "3.7.9"
  }
 },
 "nbformat": 4,
 "nbformat_minor": 2
}